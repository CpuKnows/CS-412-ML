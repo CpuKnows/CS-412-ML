{
 "cells": [
  {
   "cell_type": "code",
   "execution_count": 1,
   "metadata": {
    "collapsed": true
   },
   "outputs": [],
   "source": [
    "import numpy as np\n",
    "import scipy.io as sio\n",
    "from scipy.spatial import distance\n",
    "import matplotlib.pyplot as plt"
   ]
  },
  {
   "cell_type": "code",
   "execution_count": 2,
   "metadata": {
    "collapsed": true
   },
   "outputs": [],
   "source": [
    "mat_contents = sio.loadmat('hw1/mnistData.mat')"
   ]
  },
  {
   "cell_type": "markdown",
   "metadata": {},
   "source": [
    "Dataset shape: (28, 28, 10000)  \n",
    "Label shape: (10000, 1)"
   ]
  },
  {
   "cell_type": "code",
   "execution_count": 10,
   "metadata": {
    "collapsed": true
   },
   "outputs": [],
   "source": [
    "n = 1000\n",
    "\n",
    "# Each training case is flattened to a row\n",
    "X_train = np.reshape(mat_contents['mnist']['train_images'][0,0][:,:,0:n], (28*28,n))\n",
    "X_train = np.swapaxes(X_train, 1, 0) # each row is a training case\n",
    "X_test = np.reshape(mat_contents['mnist']['test_images'][0,0][:,:,0:n], (28*28,n))\n",
    "X_test = np.swapaxes(X_test, 1, 0) # each row is a test case\n",
    "\n",
    "Y_train = np.reshape(mat_contents['mnist']['train_labels'][0,0][0:n], (n,))\n",
    "Y_test = np.reshape(mat_contents['mnist']['test_labels'][0,0][0:n], (n,))"
   ]
  },
  {
   "cell_type": "code",
   "execution_count": 4,
   "metadata": {
    "collapsed": true
   },
   "outputs": [],
   "source": [
    "def mnist_image(pixels, label):\n",
    "    pixels = pixels.reshape((28, 28))\n",
    "    plt.title('Label is {label}'.format(label=label))\n",
    "    plt.imshow(pixels, cmap='gray')\n",
    "    plt.show()"
   ]
  },
  {
   "cell_type": "code",
   "execution_count": 5,
   "metadata": {},
   "outputs": [
    {
     "data": {
      "image/png": "[encoded data removed]",
      "text/plain": [
       "<matplotlib.figure.Figure at 0xa5d07d4208>"
      ]
     },
     "metadata": {},
     "output_type": "display_data"
    }
   ],
   "source": [
    "mnist_image(X_train[0], Y_train[0])"
   ]
  },
  {
   "cell_type": "code",
   "execution_count": 8,
   "metadata": {
    "collapsed": true
   },
   "outputs": [],
   "source": [
    "pred = np.zeros_like(Y_train)\n",
    "\n",
    "for index, row in enumerate(X_test):\n",
    "    distances=[]\n",
    "    for neighbor in X_train:\n",
    "        distances.append(distance.sqeuclidean(row, neighbor))\n",
    "    min_dist = np.argmin(distances)\n",
    "    pred[index] = Y_train[min_dist]"
   ]
  },
  {
   "cell_type": "code",
   "execution_count": 9,
   "metadata": {},
   "outputs": [
    {
     "data": {
      "text/plain": [
       "0.17199999999999999"
      ]
     },
     "execution_count": 9,
     "metadata": {},
     "output_type": "execute_result"
    }
   ],
   "source": [
    "np.mean(np.not_equal(pred, Y_test))"
   ]
  }
 ],
 "metadata": {
  "kernelspec": {
   "display_name": "Python [conda env:school]",
   "language": "python",
   "name": "conda-env-school-py"
  },
  "language_info": {
   "codemirror_mode": {
    "name": "ipython",
    "version": 3
   },
   "file_extension": ".py",
   "mimetype": "text/x-python",
   "name": "python",
   "nbconvert_exporter": "python",
   "pygments_lexer": "ipython3",
   "version": "3.6.2"
  }
 },
 "nbformat": 4,
 "nbformat_minor": 2
}
